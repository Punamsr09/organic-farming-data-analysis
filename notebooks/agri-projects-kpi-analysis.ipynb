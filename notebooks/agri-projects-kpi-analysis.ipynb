{
 "cells": [
  {
   "cell_type": "code",
   "execution_count": null,
   "id": "307dd185-1fe7-48f4-97e0-130f4d50774d",
   "metadata": {},
   "outputs": [],
   "source": [
    "pip install mysql-connector-python pandas matplotlib seaborn "
   ]
  },
  {
   "cell_type": "code",
   "execution_count": null,
   "id": "ec6cdef8-ceb7-4a36-b30d-7e569de48d59",
   "metadata": {},
   "outputs": [],
   "source": [
    "\n",
    "import pandas as pd\n",
    "import mysql.connector\n",
    "import matplotlib.pyplot as plt\n",
    "import seaborn as sns\n",
    "# --- connect to your mysql database---\n",
    "conn = mysql.connector.connect(\n",
    "    host =\"localhost\",\n",
    "    user =\"root\",\n",
    "    password=\"password\",\n",
    "    database=\"organic_farming_db\"\n",
    "    \n",
    ")\n",
    "\n",
    "# --- load data into pandas dataframes ---\n",
    "agri_df = pd.read_sql(\"SELECT * FROM agriculture_projects;\", conn)\n",
    "carbon_df = pd.read_sql(\"SELECT * FROM carbon_monitoring;\", conn)\n",
    "fund_df = pd.read_sql(\"SELECT * FROM funding_data;\", conn)\n",
    "\n",
    "\n",
    "# ---merge datasets---\n",
    "merged = (\n",
    "    agri_df\n",
    "    .merge(carbon_df, on =\"project_id\", how = \"left\")\n",
    "    .merge(fund_df, on =\"project_id\", how =\"left\")\n",
    ")\n",
    "print (\"data merged successfully. total records:\", len(merged))\n",
    "display(merged.head())"
   ]
  },
  {
   "cell_type": "code",
   "execution_count": null,
   "id": "f2189d69-a81d-44d7-a86d-d1cf84656318",
   "metadata": {},
   "outputs": [],
   "source": [
    "# --- Example KPIS---\n",
    "kpis = {\n",
    "    \"Total Projects\": merged[\"project_id\"].nunique(),\n",
    "    \"Verified Carbon Credits\": merged[\"credits_verified\"].sum(skipna=True),\n",
    "    \"Total Funding (USD)\": merged[\"amount_USD\"].sum(),\n",
    "    \"Average Soil Carbon Gain\": (merged[\"soil_carbon_current\"] - merged[\"soil_carbon_baseline\"]).mean().round(3),   \n",
    "}\n",
    "print(\"\\n--- Core KPIs ---\")\n",
    "for k, v in kpis.items():\n",
    "    print(f\"{k}:{v:}\")\n"
   ]
  },
  {
   "cell_type": "code",
   "execution_count": null,
   "id": "1780ace1-dbce-463e-91cd-3d8ba24ee1c2",
   "metadata": {},
   "outputs": [],
   "source": []
  },
  {
   "cell_type": "code",
   "execution_count": null,
   "id": "6845e37e-fa6c-4240-9ccd-bb0417f5e36d",
   "metadata": {},
   "outputs": [],
   "source": [
    "# --- Visualization 1: Funding vs Credits by Region ---\n",
    "plt.figure(figsize=(8,4))\n",
    "sns.barplot(\n",
    "    data=merged.groupby(\"region\", as_index=False)\n",
    "    .agg({\"amount_usd\": \"sum\", \"credits_verified\": \"sum\"}),\n",
    "    x=\"region\", y=\"amount_usd\"\n",
    ")\n",
    "plt.title(\"Total Funding By Region (USD)\")\n",
    "plt.xticks(rotation=45)\n",
    "plt.tight_layout()\n",
    "plt.show()"
   ]
  },
  {
   "cell_type": "code",
   "execution_count": null,
   "id": "122ca82b-9afa-440f-b207-648930857190",
   "metadata": {},
   "outputs": [],
   "source": [
    "# --- Visualization 2: Carbon cerdit distribution ---\n",
    "plt.figure(figsize=(8,4))\n",
    "sns.histplot(merged[\"credits_verified\"].dropna(), bins=20, kde=True)\n",
    "plt.title(\"Distribution of Verified Carbon Credits\")\n",
    "plt.xlabel(\"Credits Verified\")\n",
    "plt.ylabel(\"Frequency\")\n",
    "plt.tight_layout()\n",
    "plt.show()\n",
    "\n",
    "conn.close()"
   ]
  },
  {
   "cell_type": "code",
   "execution_count": null,
   "id": "d72ae50d-8fa0-468f-9503-b3c34fd0b6bf",
   "metadata": {},
   "outputs": [],
   "source": []
  }
 ],
 "metadata": {
  "kernelspec": {
   "display_name": "Python [conda env:base] *",
   "language": "python",
   "name": "conda-base-py"
  },
  "language_info": {
   "codemirror_mode": {
    "name": "ipython",
    "version": 3
   },
   "file_extension": ".py",
   "mimetype": "text/x-python",
   "name": "python",
   "nbconvert_exporter": "python",
   "pygments_lexer": "ipython3",
   "version": "3.13.5"
  }
 },
 "nbformat": 4,
 "nbformat_minor": 5
}
